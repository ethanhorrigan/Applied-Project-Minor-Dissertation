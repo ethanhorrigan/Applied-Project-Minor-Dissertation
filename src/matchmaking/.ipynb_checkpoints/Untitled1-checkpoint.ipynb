{
 "cells": [
  {
   "cell_type": "code",
   "execution_count": 1,
   "metadata": {},
   "outputs": [
    {
     "name": "stdout",
     "output_type": "stream",
     "text": [
      "Result: Victory\n",
      "Result: Victory\n",
      "Result: Defeat\n",
      "Result: Victory\n",
      "Result: Victory\n",
      "Result: Defeat\n",
      "Result: Defeat\n",
      "Result: Victory\n",
      "Result: Defeat\n",
      "Result: Defeat\n",
      "Result: Kha'Zix\n",
      "Result: Wukong\n",
      "Result: Kha'Zix\n",
      "Result: Rengar\n",
      "Result: Wukong\n",
      "Result: Rengar\n",
      "Result: Kha'Zix\n",
      "Result: Wukong\n",
      "Result: Kayn\n",
      "Result: Shyvana\n",
      "Result: Shyvana\n",
      "Result: Lux\n",
      "Result: Lucian\n",
      "Result: Shyvana\n",
      "Result: Rengar\n"
     ]
    }
   ],
   "source": [
    "from bs4 import BeautifulSoup\n",
    "import requests\n",
    "URL = 'https://euw.op.gg/summoner/userName=Big Joe Joyce'\n",
    "page = requests.get(URL)\n",
    "soup = BeautifulSoup(page.content, 'html.parser')\n",
    "\n",
    "results = soup.find('div', {\"class\": \"Content\"})\n",
    "\n",
    "results.prettify()\n",
    "game_types = results.findChildren('div', {\"class\": \"GameResult\"})\n",
    "champion = results.findChildren('div', {\"class\": \"ChampionName\"})\n",
    "\n",
    "# print(results.prettify())\n",
    "\n",
    "for line in game_types:\n",
    "    str1 = line.text.strip()\n",
    "    print('Result: {}'.format(str1))\n",
    "    \n",
    "for champ in champion:\n",
    "    str1 = champ.text.strip()\n",
    "    print('Result: {}'.format(str1))\n"
   ]
  },
  {
   "cell_type": "code",
   "execution_count": 2,
   "metadata": {},
   "outputs": [],
   "source": [
    "# https://github.com/tongtzeho/LOLPrediction/blob/master/neural_network_keras.py"
   ]
  },
  {
   "cell_type": "code",
   "execution_count": 20,
   "metadata": {},
   "outputs": [],
   "source": [
    "from selenium import webdriver"
   ]
  },
  {
   "cell_type": "code",
   "execution_count": 21,
   "metadata": {},
   "outputs": [],
   "source": [
    "from selenium.webdriver.common.keys import Keys"
   ]
  },
  {
   "cell_type": "code",
   "execution_count": 22,
   "metadata": {},
   "outputs": [],
   "source": [
    "options = webdriver.ChromeOptions()"
   ]
  },
  {
   "cell_type": "code",
   "execution_count": 23,
   "metadata": {},
   "outputs": [],
   "source": [
    "options.add_argument('--headless')"
   ]
  },
  {
   "cell_type": "code",
   "execution_count": 24,
   "metadata": {},
   "outputs": [],
   "source": [
    "options.add_argument('--incognito')"
   ]
  },
  {
   "cell_type": "code",
   "execution_count": 25,
   "metadata": {},
   "outputs": [],
   "source": [
    "def get_chrome_web_driver(options):\n",
    "    return webdriver.Chrome(\"./chromedriver\", options=options)"
   ]
  },
  {
   "cell_type": "code",
   "execution_count": 32,
   "metadata": {},
   "outputs": [],
   "source": [
    "driver = get_chrome_web_driver(options)"
   ]
  },
  {
   "cell_type": "code",
   "execution_count": 66,
   "metadata": {},
   "outputs": [
    {
     "name": "stdout",
     "output_type": "stream",
     "text": [
      "Player: Dylan Loftus Rank: Gold 3\n",
      "Victory\n",
      "40m 12s\n",
      "Player: Bingi101 Rank: Bronze 1\n",
      "Victory\n",
      "35m 1s\n",
      "Player: awful adc Rank: Silver 4\n",
      "Defeat\n",
      "26m 59s\n"
     ]
    }
   ],
   "source": [
    "PLAYER_SEARCH = ['Dylan Loftus', 'Bingi101', 'awful adc']\n",
    "URL = 'https://euw.op.gg/summoner/userName='\n",
    "for player in PLAYER_SEARCH:\n",
    "    driver.get(URL+player)\n",
    "    element = driver.find_element_by_xpath('//*[@id=\"SummonerLayoutContent\"]/div[2]/div[1]/div[1]/div/div[2]/div[2]')\n",
    "    print('Player: {} Rank: {}'.format(player,element.text))\n",
    "    \n",
    "    result = driver.find_elements_by_xpath('//*[@id=\"SummonerLayoutContent\"]/div[2]/div[2]/div/div[2]/div[3]/div[1]/div/div[1]/div[1]/div[4]')\n",
    "    length = driver.find_elements_by_class_name('GameLength')\n",
    "    # kda = driver.find_elements_by_xpath('//*[@id=\"SummonerLayoutContent\"]/div[2]/div[2]/div/div[2]/div[3]/div[3]/div/div[1]/div[3]/div[2]/span')\n",
    "    for r in result:\n",
    "        print (r.text)\n",
    "    #for e, r in zip(result, length):\n",
    "       # print (e.text)\n",
    "        \n",
    "        \n",
    "    \n",
    "    \n",
    "    \"\"\"\n",
    "    for i in driver.find_elements_by_class_name('GameItemWrap'):\n",
    "        ele = i.find_elements_by_xpath('//*[@id=\"SummonerLayoutContent\"]/div[2]/div[2]/div/div[2]/div[3]/div[2]/div/div[1]/div[3]/div[2]/span')         \n",
    "        print(ele)\n",
    "    \"\"\""
   ]
  },
  {
   "cell_type": "code",
   "execution_count": null,
   "metadata": {},
   "outputs": [],
   "source": []
  },
  {
   "cell_type": "code",
   "execution_count": null,
   "metadata": {},
   "outputs": [],
   "source": []
  },
  {
   "cell_type": "code",
   "execution_count": null,
   "metadata": {},
   "outputs": [],
   "source": []
  }
 ],
 "metadata": {
  "kernelspec": {
   "display_name": "Python 3",
   "language": "python",
   "name": "python3"
  },
  "language_info": {
   "codemirror_mode": {
    "name": "ipython",
    "version": 3
   },
   "file_extension": ".py",
   "mimetype": "text/x-python",
   "name": "python",
   "nbconvert_exporter": "python",
   "pygments_lexer": "ipython3",
   "version": "3.7.3"
  }
 },
 "nbformat": 4,
 "nbformat_minor": 2
}
