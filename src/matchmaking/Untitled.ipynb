{
 "cells": [
  {
   "cell_type": "code",
   "execution_count": 1,
   "metadata": {},
   "outputs": [],
   "source": [
    "class Elo:\n",
    "    def __init__(self, player_rating, losers_rating, total_games):\n",
    "        self.player_rating = player_rating\n",
    "        self.losers_rating = losers_rating\n",
    "        self.total_games = total_games\n",
    "        self.start_rating = 1000\n",
    "        \n",
    "    def calculate_k(self):\n",
    "        # The K-factor, in the USCF rating system, can be estimated by dividing 800 \n",
    "        # by the effective number of games a player's rating is based on \n",
    "        #(Ne) plus the number of games the player completed in a tournament (m\n",
    "        # k = 800 / (Ne + m)\n",
    "        Ne = self.total_games\n",
    "        m = 1\n",
    "        k = (self.player_rating) / (Ne + m)\n",
    "        return k\n",
    "    \n",
    "    def calculate_growth_rate(self):\n",
    "        # PR = (V presetn - V pass) / v Pass x 1000\n",
    "        # n = divide that by number of years (games)\n",
    "        r = self.calculate_k()\n",
    "        current_rating = self.player_rating\n",
    "        past_rating = self.start_rating\n",
    "        n = self.total_games\n",
    "        PR = (current_rating - past_rating) / past_rating * 100\n",
    "        print(PR)\n",
    "        PR = PR / n\n",
    "        \n",
    "        return PR\n",
    "    \n",
    "    def estimate_rating_start(self):\n",
    "        r = self.player_rating\n",
    "        games = self.total_games\n",
    "        return r / games\n",
    "        "
   ]
  },
  {
   "cell_type": "code",
   "execution_count": 2,
   "metadata": {},
   "outputs": [
    {
     "name": "stdout",
     "output_type": "stream",
     "text": [
      "1000\n",
      "75.0\n",
      "start rate 80.0\n",
      "20.0\n",
      "1.3333333333333333%\n"
     ]
    }
   ],
   "source": [
    "e = Elo(1200, 1500, 15)\n",
    "print(e.start_rating)\n",
    "print(e.calculate_k())\n",
    "print('start rate',e.estimate_rating_start())\n",
    "growth_rate = e.calculate_growth_rate()\n",
    "print(\"{}%\".format(growth_rate))"
   ]
  },
  {
   "cell_type": "code",
   "execution_count": null,
   "metadata": {},
   "outputs": [],
   "source": []
  },
  {
   "cell_type": "code",
   "execution_count": null,
   "metadata": {},
   "outputs": [],
   "source": []
  }
 ],
 "metadata": {
  "kernelspec": {
   "display_name": "Python 3",
   "language": "python",
   "name": "python3"
  },
  "language_info": {
   "codemirror_mode": {
    "name": "ipython",
    "version": 3
   },
   "file_extension": ".py",
   "mimetype": "text/x-python",
   "name": "python",
   "nbconvert_exporter": "python",
   "pygments_lexer": "ipython3",
   "version": "3.7.3"
  }
 },
 "nbformat": 4,
 "nbformat_minor": 4
}
