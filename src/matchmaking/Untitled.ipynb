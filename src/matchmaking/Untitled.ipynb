{
 "cells": [
  {
   "cell_type": "code",
   "execution_count": 19,
   "metadata": {},
   "outputs": [],
   "source": [
    "class Elo:\n",
    "    def __init__(self, player_rating, losers_rating, total_games):\n",
    "        self.player_rating = player_rating\n",
    "        self.losers_rating = losers_rating\n",
    "        self.total_games = total_games\n",
    "        \n",
    "    def calculate_k(self):\n",
    "        # The K-factor, in the USCF rating system, can be estimated by dividing 800 \n",
    "        # by the effective number of games a player's rating is based on \n",
    "        #(Ne) plus the number of games the player completed in a tournament (m\n",
    "        # k = 800 / (Ne + m)\n",
    "        Ne = self.total_games\n",
    "        m = 1\n",
    "        k = 400 / (Ne + m)\n",
    "        return 25"
   ]
  },
  {
   "cell_type": "code",
   "execution_count": 20,
   "metadata": {},
   "outputs": [
    {
     "name": "stdout",
     "output_type": "stream",
     "text": [
      "25\n"
     ]
    }
   ],
   "source": [
    "e = Elo(1000, 1050, 105)\n",
    "print(e.calculate_k())"
   ]
  },
  {
   "cell_type": "code",
   "execution_count": null,
   "metadata": {},
   "outputs": [],
   "source": []
  }
 ],
 "metadata": {
  "kernelspec": {
   "display_name": "Python 3",
   "language": "python",
   "name": "python3"
  },
  "language_info": {
   "codemirror_mode": {
    "name": "ipython",
    "version": 3
   },
   "file_extension": ".py",
   "mimetype": "text/x-python",
   "name": "python",
   "nbconvert_exporter": "python",
   "pygments_lexer": "ipython3",
   "version": "3.6.9"
  }
 },
 "nbformat": 4,
 "nbformat_minor": 4
}
